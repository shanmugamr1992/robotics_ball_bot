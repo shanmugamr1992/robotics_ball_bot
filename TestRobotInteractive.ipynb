{
 "cells": [
  {
   "cell_type": "code",
   "execution_count": 1,
   "id": "b98e63d1-f900-46b0-bd04-59d784cd4417",
   "metadata": {},
   "outputs": [],
   "source": [
    "import cv2\n",
    "from robot import Robot\n",
    "import time\n",
    "\n",
    "if __name__ == \"__main__\":\n",
    "  r = Robot(run_on_nano=False)\n",
    "  time.sleep(4)\n",
    "  r.run()"
   ]
  }
 ],
 "metadata": {
  "kernelspec": {
   "display_name": "Python 3 (ipykernel)",
   "language": "python",
   "name": "python3"
  },
  "language_info": {
   "codemirror_mode": {
    "name": "ipython",
    "version": 3
   },
   "file_extension": ".py",
   "mimetype": "text/x-python",
   "name": "python",
   "nbconvert_exporter": "python",
   "pygments_lexer": "ipython3",
   "version": "3.10.2"
  }
 },
 "nbformat": 4,
 "nbformat_minor": 5
}
