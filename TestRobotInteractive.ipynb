{
 "cells": [
  {
   "cell_type": "code",
   "execution_count": null,
   "id": "b98e63d1-f900-46b0-bd04-59d784cd4417",
   "metadata": {},
   "outputs": [],
   "source": [
    "import cv2\n",
    "from robot import Robot\n",
    "import time\n",
    "\n",
    "r = Robot(run_on_nano=False)\n",
    "time.sleep(4)\n"
   ]
  },
  {
   "cell_type": "code",
   "execution_count": null,
   "id": "a99d187c-5302-492f-b3b0-3359e79d151a",
   "metadata": {},
   "outputs": [],
   "source": [
    "r.run()"
   ]
  }
 ],
 "metadata": {
  "kernelspec": {
   "display_name": "Python 3 (ipykernel)",
   "language": "python",
   "name": "python3"
  },
  "language_info": {
   "codemirror_mode": {
    "name": "ipython",
    "version": 3
   },
   "file_extension": ".py",
   "mimetype": "text/x-python",
   "name": "python",
   "nbconvert_exporter": "python",
   "pygments_lexer": "ipython3",
   "version": "3.10.2"
  }
 },
 "nbformat": 4,
 "nbformat_minor": 5
}
