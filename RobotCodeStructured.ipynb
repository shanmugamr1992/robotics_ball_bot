{
 "cells": [
  {
   "cell_type": "code",
   "execution_count": 1,
   "id": "b98e63d1-f900-46b0-bd04-59d784cd4417",
   "metadata": {},
   "outputs": [],
   "source": [
    "from robot.robot import Robot\n",
    "r = Robot(compute_reference_box = False)\n",
    "r.run()"
   ]
  }
 ],
 "metadata": {
  "kernelspec": {
   "display_name": "Python 3 (ipykernel)",
   "language": "python",
   "name": "python3"
  },
  "language_info": {
   "codemirror_mode": {
    "name": "ipython",
    "version": 3
   },
   "file_extension": ".py",
   "mimetype": "text/x-python",
   "name": "python",
   "nbconvert_exporter": "python",
   "pygments_lexer": "ipython3",
   "version": "3.10.2"
  }
 },
 "nbformat": 4,
 "nbformat_minor": 5
}
