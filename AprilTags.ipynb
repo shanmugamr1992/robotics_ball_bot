{
 "cells": [
  {
   "cell_type": "code",
   "execution_count": 2,
   "id": "f8eb931f-94fd-44bb-8c3b-8efec147e797",
   "metadata": {},
   "outputs": [],
   "source": [
    "from scipy.spatial.transform import Rotation as R\n",
    "from pyapriltags import Detector"
   ]
  },
  {
   "cell_type": "code",
   "execution_count": 3,
   "id": "9fe40e4a-965e-4824-994a-7c415661a175",
   "metadata": {},
   "outputs": [],
   "source": [
    "at_detector = Detector(families='tag16h5',\n",
    "                        nthreads=1,\n",
    "                        quad_decimate=1.0,\n",
    "                        quad_sigma=0.0,\n",
    "                        refine_edges=1,\n",
    "                        decode_sharpening=0.25,\n",
    "                        debug=0)\n",
    "fx = 460.92495728   # FOV(x) -> depth2xyz -> focal length (x)\n",
    "fy = 460.85058594   # FOV(y) -> depth2xyz -> focal length (y)\n",
    "cx = 315.10949707   # 640 (width) 320\n",
    "cy = 176.72598267   # 360 (height) 180\n",
    "#cam_intrinsic_params = open3d.camera.PinholeCameraIntrinsic(640, 360, fx, fy, cx, cy)\n",
    "camera_params = ( fx, fy, cx, cy )"
   ]
  },
  {
   "cell_type": "code",
   "execution_count": 4,
   "id": "20aaefc6-820d-4002-afef-925891593489",
   "metadata": {},
   "outputs": [],
   "source": [
    "import cv2\n",
    "\n",
    "cam = cv2.VideoCapture(0)\n",
    "\n",
    "img = None"
   ]
  },
  {
   "cell_type": "code",
   "execution_count": 5,
   "id": "f6333410-abf8-45a8-8391-05093bb508ec",
   "metadata": {},
   "outputs": [],
   "source": [
    "check, frame = cam.read()\n",
    "img = frame\n",
    "cv2.imshow('video', frame)\n",
    "key = cv2.waitKey(1)\n"
   ]
  },
  {
   "cell_type": "code",
   "execution_count": 6,
   "id": "37d9e021-df0b-452c-bc5a-ee9ae7aa9953",
   "metadata": {},
   "outputs": [],
   "source": [
    "from PIL import Image\n",
    "im = Image.fromarray(img)\n",
    "im.save(\"april_tag.jpeg\")"
   ]
  },
  {
   "cell_type": "code",
   "execution_count": 7,
   "id": "87118091-823c-4212-a82e-e6924547a00b",
   "metadata": {},
   "outputs": [],
   "source": [
    "tags = at_detector.detect(\n",
    "  cv2.cvtColor(frame, cv2.COLOR_BGR2GRAY), True, camera_params, 2.5)\n",
    "found_tag = False\n",
    "    "
   ]
  },
  {
   "cell_type": "code",
   "execution_count": 8,
   "id": "b442df76-9604-417e-a4fb-619e48c5d100",
   "metadata": {},
   "outputs": [
    {
     "name": "stdout",
     "output_type": "stream",
     "text": [
      "7\n",
      "[[ 0.35081022 -0.91634407  0.19299157]\n",
      " [ 0.30457483  0.30653413  0.90181539]\n",
      " [-0.88553168 -0.25758568  0.38663064]] [[139.66267904]\n",
      " [-16.3585617 ]\n",
      " [ 46.60060671]]\n"
     ]
    }
   ],
   "source": [
    "tag = tags[0]\n",
    "print(tag.tag_id)\n",
    "print(tag.pose_R, tag.pose_t)"
   ]
  },
  {
   "cell_type": "code",
   "execution_count": 9,
   "id": "fc8e5355-eef3-4810-9953-599d86cc43b1",
   "metadata": {},
   "outputs": [
    {
     "name": "stdout",
     "output_type": "stream",
     "text": [
      "Rotation:  [-51.45512762  47.86570661  54.18533697]\n",
      "Rotation:  [ 69.05131589  11.12742028 -66.79398496]\n"
     ]
    }
   ],
   "source": [
    "from scipy.spatial.transform import Rotation as R\n",
    "print(\"Rotation: \", R.from_matrix(tag.pose_R).as_rotvec(degrees=True))\n",
    "print(\"Rotation: \", R.from_matrix(tag.pose_R).as_euler(\"zyx\", degrees=True))"
   ]
  },
  {
   "cell_type": "code",
   "execution_count": null,
   "id": "a7efb93c-6219-4f52-87ae-742ff5a33ec9",
   "metadata": {},
   "outputs": [],
   "source": [
    "z_axis_rotation = # get first element"
   ]
  },
  {
   "cell_type": "code",
   "execution_count": 25,
   "id": "8a49d34b-c5ed-43f2-ad37-d5588f98ebb8",
   "metadata": {},
   "outputs": [
    {
     "data": {
      "text/plain": [
       "array([[-40.09440847],\n",
       "       [112.38181413],\n",
       "       [ 65.72196442]])"
      ]
     },
     "execution_count": 25,
     "metadata": {},
     "output_type": "execute_result"
    }
   ],
   "source": [
    "tag.pose_t #xyz"
   ]
  },
  {
   "cell_type": "code",
   "execution_count": null,
   "id": "afe7a875-9a00-425e-b5d7-d6797a015449",
   "metadata": {},
   "outputs": [],
   "source": [
    "while True:\n",
    "    check, frame = cam.read()\n",
    "\n",
    "    cv2.imshow('video', frame)\n",
    "    img = frame\n",
    "    \n",
    "    tags = at_detector.detect(\n",
    "      cv2.cvtColor(frame, cv2.COLOR_BGR2GRAY), True, camera_params, 2.5)\n",
    "    found_tag = False\n",
    "    \n",
    "    for tag in tags:\n",
    "      \n",
    "      if tag.decision_margin < 50: continue\n",
    "      print(tag)\n",
    "      if tag.tag_id == 1: # 1..8\n",
    "        print(tag.pose_R, tag.pose_t)\n",
    "        # global_T = get_pose(tag.pose_R, tag.pose_t) # use your get_pose algorithm here!\n",
    "        found_tag = True\n",
    "          \n",
    "    key = cv2.waitKey(1)\n",
    "    if key == 27:\n",
    "        break\n",
    "\n",
    "cam.release()\n",
    "cv2.destroyAllWindows()"
   ]
  },
  {
   "cell_type": "code",
   "execution_count": null,
   "id": "dd6e5028-1601-4b62-b213-26e71a673400",
   "metadata": {},
   "outputs": [],
   "source": []
  }
 ],
 "metadata": {
  "kernelspec": {
   "display_name": "Python 3 (ipykernel)",
   "language": "python",
   "name": "python3"
  },
  "language_info": {
   "codemirror_mode": {
    "name": "ipython",
    "version": 3
   },
   "file_extension": ".py",
   "mimetype": "text/x-python",
   "name": "python",
   "nbconvert_exporter": "python",
   "pygments_lexer": "ipython3",
   "version": "3.10.2"
  }
 },
 "nbformat": 4,
 "nbformat_minor": 5
}
