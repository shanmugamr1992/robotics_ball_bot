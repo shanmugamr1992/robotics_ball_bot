{
 "cells": [
  {
   "cell_type": "code",
   "execution_count": 1,
   "id": "f8eb931f-94fd-44bb-8c3b-8efec147e797",
   "metadata": {},
   "outputs": [],
   "source": [
    "from scipy.spatial.transform import Rotation as R\n",
    "from pyapriltags import Detector"
   ]
  },
  {
   "cell_type": "code",
   "execution_count": 2,
   "id": "9fe40e4a-965e-4824-994a-7c415661a175",
   "metadata": {},
   "outputs": [],
   "source": [
    "at_detector = Detector(families='tag16h5',\n",
    "                        nthreads=1,\n",
    "                        quad_decimate=1.0,\n",
    "                        quad_sigma=0.0,\n",
    "                        refine_edges=1,\n",
    "                        decode_sharpening=0.25,\n",
    "                        debug=0)\n",
    "fx = 460.92495728   # FOV(x) -> depth2xyz -> focal length (x)\n",
    "fy = 460.85058594   # FOV(y) -> depth2xyz -> focal length (y)\n",
    "cx = 315.10949707   # 640 (width) 320\n",
    "cy = 176.72598267   # 360 (height) 180\n",
    "#cam_intrinsic_params = open3d.camera.PinholeCameraIntrinsic(640, 360, fx, fy, cx, cy)\n",
    "camera_params = ( fx, fy, cx, cy )"
   ]
  },
  {
   "cell_type": "code",
   "execution_count": null,
   "id": "f6333410-abf8-45a8-8391-05093bb508ec",
   "metadata": {},
   "outputs": [],
   "source": [
    "\"\"\"\n",
    "import cv2\n",
    "$cam = cv2.VideoCapture(0)\n",
    "img = None\n",
    "check, frame = cam.read()\n",
    "img = frame\n",
    "cv2.imshow('video', frame)\n",
    "key = cv2.waitKey(1)\n",
    "from PIL import Image\n",
    "im = Image.fromarray(img)\n",
    "im.save(\"april_tag.jpeg\")\n",
    "\"\"\""
   ]
  },
  {
   "cell_type": "code",
   "execution_count": 4,
   "id": "87118091-823c-4212-a82e-e6924547a00b",
   "metadata": {},
   "outputs": [
    {
     "name": "stdout",
     "output_type": "stream",
     "text": [
      "<pyapriltags.apriltags.LP__ZArray object at 0x287c3b040>\n",
      "<pyapriltags.apriltags.LP__ApriltagDetection object at 0x287c39440>\n",
      "<pyapriltags.apriltags._ApriltagDetectionInfo object at 0x287c390c0>\n"
     ]
    }
   ],
   "source": [
    "import cv2\n",
    "imagepath = '/Users/shanmugamr/Downloads/tag0.jpg'\n",
    "frame = cv2.imread(imagepath) #, cv2.IMREAD_GRAYSCALE)\n",
    "\n",
    "d = at_detector.detect(\n",
    "  cv2.cvtColor(frame, cv2.COLOR_BGR2GRAY), True, camera_params, 2.5)\n",
    "found_tag = False\n",
    "    "
   ]
  },
  {
   "cell_type": "code",
   "execution_count": 5,
   "id": "9e0532ad-32fe-48b7-ba7b-043b05551a35",
   "metadata": {},
   "outputs": [
    {
     "data": {
      "text/plain": [
       "([Detection object:\n",
       "  tag_family = b'tag16h5'\n",
       "  tag_id = 0\n",
       "  tag_size = 2.5\n",
       "  hamming = 0\n",
       "  decision_margin = 111.5625\n",
       "  homography = [[ 4.50083583e+02 -2.30152088e-02  5.99961293e+02]\n",
       "   [ 1.14204943e-03  4.49894315e+02  5.99797480e+02]\n",
       "   [ 7.36534606e-06 -1.74734592e-04  1.00000000e+00]]\n",
       "  center = [599.96129325 599.79747964]\n",
       "  corners = [[ 149.88198853 1049.88183594]\n",
       "   [1050.19763184 1049.86865234]\n",
       "   [1049.87670898  149.87701416]\n",
       "   [ 149.87564087  149.87693787]]\n",
       "  pose_R = [[ 9.99999997e-01  7.08170246e-05  3.48079883e-05]\n",
       "   [-7.08214959e-05  9.99999989e-01  1.28471538e-04]\n",
       "   [-3.47988900e-05 -1.28474003e-04  9.99999991e-01]]\n",
       "  pose_t = [[0.7911258 ]\n",
       "   [1.17533475]\n",
       "   [1.28022169]]\n",
       "  pose_err = 7.374564733972655e-08],\n",
       " <pyapriltags.apriltags.LP__ZArray at 0x287c3b040>,\n",
       " <pyapriltags.apriltags.LP__ApriltagDetection at 0x287c39440>,\n",
       " <pyapriltags.apriltags._ApriltagDetectionInfo at 0x287c390c0>)"
      ]
     },
     "execution_count": 5,
     "metadata": {},
     "output_type": "execute_result"
    }
   ],
   "source": [
    "d [Detection object:\n",
    "tag_family = b'tag16h5'\n",
    "tag_id = 0\n",
    "hamming = 0\n",
    "decision_margin = 111.5625\n",
    "homography = [[ 4.50083542e+02 -2.30152067e-02  5.99961263e+02]\n",
    " [ 1.07083763e-03  4.49894315e+02  5.99797480e+02]\n",
    " [ 7.29751724e-06 -1.74734580e-04  1.00000000e+00]]\n",
    "center = [599.96126272 599.79747964]\n",
    "corners = [[ 149.88198853 1049.88183594]\n",
    " [1050.19763184 1049.86865234]\n",
    " [1049.87670898  149.87695312]\n",
    " [ 149.87564087  149.8769989 ]]\n",
    "pose_R = [[ 9.99999997e-01  7.08723636e-05  3.48583051e-05]\n",
    " [-7.08768416e-05  9.99999989e-01  1.28476923e-04]\n",
    " [-3.48491992e-05 -1.28479393e-04  9.99999991e-01]]\n",
    "pose_t = [[0.79112576]\n",
    " [1.17533476]\n",
    " [1.28022171]]\n",
    "pose_err = 7.368448986095677e-08\n",
    "]"
   ]
  },
  {
   "cell_type": "code",
   "execution_count": 71,
   "id": "0995ce2a-46b8-493d-a34f-aa8ba26be25d",
   "metadata": {},
   "outputs": [
    {
     "data": {
      "text/plain": [
       "30"
      ]
     },
     "execution_count": 71,
     "metadata": {},
     "output_type": "execute_result"
    }
   ],
   "source": [
    "apriltag.contents.family.contents.ncodes"
   ]
  },
  {
   "cell_type": "code",
   "execution_count": 50,
   "id": "bb849651-5cb2-4fb2-90cb-63caa8e4c697",
   "metadata": {},
   "outputs": [],
   "source": [
    "zarray_get(detections, 0, ctypes.byref(apriltag))"
   ]
  },
  {
   "cell_type": "code",
   "execution_count": 51,
   "id": "e49d3675-e582-45f3-ae92-b499d2c81411",
   "metadata": {},
   "outputs": [
    {
     "data": {
      "text/plain": [
       "array([599.96129325, 599.79747964])"
      ]
     },
     "execution_count": 51,
     "metadata": {},
     "output_type": "execute_result"
    }
   ],
   "source": [
    "np.ctypeslib.as_array(apriltag.contents.c)"
   ]
  },
  {
   "cell_type": "code",
   "execution_count": 52,
   "id": "33e8d06d-bdfe-4cd4-8e62-5af6afc229f4",
   "metadata": {},
   "outputs": [
    {
     "data": {
      "text/plain": [
       "111.5625"
      ]
     },
     "execution_count": 52,
     "metadata": {},
     "output_type": "execute_result"
    }
   ],
   "source": [
    "apriltag.contents.decision_margin\n"
   ]
  },
  {
   "cell_type": "code",
   "execution_count": 53,
   "id": "f105c15b-90d3-492d-9093-b00c4b9b59d0",
   "metadata": {},
   "outputs": [
    {
     "data": {
      "text/plain": [
       "0"
      ]
     },
     "execution_count": 53,
     "metadata": {},
     "output_type": "execute_result"
    }
   ],
   "source": [
    "apriltag.contents.hamming"
   ]
  },
  {
   "cell_type": "code",
   "execution_count": 54,
   "id": "28c7612a-b383-4efb-a4e8-26e3354bf16d",
   "metadata": {},
   "outputs": [
    {
     "data": {
      "text/plain": [
       "array([[ 149.88198853, 1049.88183594],\n",
       "       [1050.19763184, 1049.86865234],\n",
       "       [1049.87670898,  149.87701416],\n",
       "       [ 149.87564087,  149.87693787]])"
      ]
     },
     "execution_count": 54,
     "metadata": {},
     "output_type": "execute_result"
    }
   ],
   "source": [
    "np.ctypeslib.as_array(apriltag.contents.p)"
   ]
  },
  {
   "cell_type": "code",
   "execution_count": 55,
   "id": "a955be2d-35e9-44ab-afc9-0d9f4e1c1b8e",
   "metadata": {},
   "outputs": [
    {
     "data": {
      "text/plain": [
       "0"
      ]
     },
     "execution_count": 55,
     "metadata": {},
     "output_type": "execute_result"
    }
   ],
   "source": [
    "apriltag.contents.id"
   ]
  },
  {
   "cell_type": "code",
   "execution_count": 73,
   "id": "4cbac062-b89c-4789-ab47-413a2a724ac8",
   "metadata": {},
   "outputs": [
    {
     "data": {
      "text/plain": [
       "3"
      ]
     },
     "execution_count": 73,
     "metadata": {},
     "output_type": "execute_result"
    }
   ],
   "source": [
    "apriltag.contents.H.contents.nrows"
   ]
  },
  {
   "cell_type": "code",
   "execution_count": 74,
   "id": "c3b71587-92e2-4c81-8d23-88633dce0998",
   "metadata": {},
   "outputs": [
    {
     "data": {
      "text/plain": [
       "3"
      ]
     },
     "execution_count": 74,
     "metadata": {},
     "output_type": "execute_result"
    }
   ],
   "source": [
    "apriltag.contents.H.contents.ncols"
   ]
  },
  {
   "cell_type": "code",
   "execution_count": 78,
   "id": "53ead043-dc95-4223-b63c-f8f229245577",
   "metadata": {},
   "outputs": [
    {
     "data": {
      "text/plain": [
       "array([450.08358301])"
      ]
     },
     "execution_count": 78,
     "metadata": {},
     "output_type": "execute_result"
    }
   ],
   "source": [
    "np.ctypeslib.as_array(apriltag.contents.H.contents.data)"
   ]
  },
  {
   "cell_type": "code",
   "execution_count": 61,
   "id": "76121511-1736-4cd3-9500-b731b1392999",
   "metadata": {},
   "outputs": [
    {
     "data": {
      "text/plain": [
       "<pyapriltags.apriltags.LP__ApriltagFamily at 0x17feb42c0>"
      ]
     },
     "execution_count": 61,
     "metadata": {},
     "output_type": "execute_result"
    }
   ],
   "source": [
    "apriltag.contents.family"
   ]
  },
  {
   "cell_type": "code",
   "execution_count": 26,
   "id": "5a1a5b8d-7035-4020-9b40-c1538046425d",
   "metadata": {},
   "outputs": [
    {
     "data": {
      "text/plain": [
       "Detection object:\n",
       "tag_family = b'tag16h5'\n",
       "tag_id = 0\n",
       "tag_size = 2.5\n",
       "hamming = 0\n",
       "decision_margin = 111.5625\n",
       "homography = [[ 4.50083583e+02 -2.30152088e-02  5.99961293e+02]\n",
       " [ 1.14204943e-03  4.49894315e+02  5.99797480e+02]\n",
       " [ 7.36534606e-06 -1.74734592e-04  1.00000000e+00]]\n",
       "center = [599.96129325 599.79747964]\n",
       "corners = [[ 149.88198853 1049.88183594]\n",
       " [1050.19763184 1049.86865234]\n",
       " [1049.87670898  149.87701416]\n",
       " [ 149.87564087  149.87693787]]\n",
       "pose_R = [[ 9.99999997e-01  7.08170246e-05  3.48079883e-05]\n",
       " [-7.08214959e-05  9.99999989e-01  1.28471538e-04]\n",
       " [-3.47988900e-05 -1.28474003e-04  9.99999991e-01]]\n",
       "pose_t = [[0.7911258 ]\n",
       " [1.17533475]\n",
       " [1.28022169]]\n",
       "pose_err = 7.374564733972655e-08"
      ]
     },
     "execution_count": 26,
     "metadata": {},
     "output_type": "execute_result"
    }
   ],
   "source": [
    "tags[0]"
   ]
  },
  {
   "cell_type": "code",
   "execution_count": 29,
   "id": "95e5f054-00f2-4571-9508-56f265eda6b7",
   "metadata": {},
   "outputs": [
    {
     "data": {
      "text/plain": [
       "<pyapriltags.apriltags.c_double_Array_2 at 0x14fd478c0>"
      ]
     },
     "execution_count": 29,
     "metadata": {},
     "output_type": "execute_result"
    }
   ],
   "source": [
    "getattr(apriltag.contents,\"c\") "
   ]
  },
  {
   "cell_type": "code",
   "execution_count": 27,
   "id": "afdd3944-3404-4172-8fec-f579c70d1a6a",
   "metadata": {},
   "outputs": [
    {
     "ename": "AttributeError",
     "evalue": "'LP__ZArray' object has no attribute '_fields_'",
     "output_type": "error",
     "traceback": [
      "\u001b[0;31m---------------------------------------------------------------------------\u001b[0m",
      "\u001b[0;31mAttributeError\u001b[0m                            Traceback (most recent call last)",
      "Input \u001b[0;32mIn [27]\u001b[0m, in \u001b[0;36m<cell line: 1>\u001b[0;34m()\u001b[0m\n\u001b[0;32m----> 1\u001b[0m \u001b[38;5;28;01mfor\u001b[39;00m field_name, field_type \u001b[38;5;129;01min\u001b[39;00m \u001b[43mdetections\u001b[49m\u001b[38;5;241;43m.\u001b[39;49m\u001b[43m_fields_\u001b[49m:\n\u001b[1;32m      2\u001b[0m     \u001b[38;5;28mprint\u001b[39m(field_name, \u001b[38;5;28mgetattr\u001b[39m(s, field_name))\n",
      "\u001b[0;31mAttributeError\u001b[0m: 'LP__ZArray' object has no attribute '_fields_'"
     ]
    }
   ],
   "source": [
    "for field_name, field_type in detections._fields_:\n",
    "...     print(field_name, getattr(s, field_name))"
   ]
  },
  {
   "cell_type": "code",
   "execution_count": 14,
   "id": "307746ea-065b-4c0a-8494-dfddbaee7b7a",
   "metadata": {},
   "outputs": [
    {
     "data": {
      "text/plain": [
       "<pyapriltags.apriltags.c_double_Array_2 at 0x14c17e8c0>"
      ]
     },
     "execution_count": 14,
     "metadata": {},
     "output_type": "execute_result"
    }
   ],
   "source": [
    "apriltag.contents.c"
   ]
  },
  {
   "cell_type": "code",
   "execution_count": 5,
   "id": "a427f1c0-d887-4227-aead-016fd9952d7e",
   "metadata": {},
   "outputs": [
    {
     "data": {
      "text/plain": [
       "Detection object:\n",
       "tag_family = b'tag16h5'\n",
       "tag_id = 0\n",
       "tag_size = 2.5\n",
       "hamming = 0\n",
       "decision_margin = 111.5625\n",
       "homography = [[ 4.50083583e+02 -2.30152088e-02  5.99961293e+02]\n",
       " [ 1.14204943e-03  4.49894315e+02  5.99797480e+02]\n",
       " [ 7.36534606e-06 -1.74734592e-04  1.00000000e+00]]\n",
       "center = [599.96129325 599.79747964]\n",
       "corners = [[ 149.88198853 1049.88183594]\n",
       " [1050.19763184 1049.86865234]\n",
       " [1049.87670898  149.87701416]\n",
       " [ 149.87564087  149.87693787]]\n",
       "pose_R = [[ 9.99999997e-01  7.08170246e-05  3.48079883e-05]\n",
       " [-7.08214959e-05  9.99999989e-01  1.28471538e-04]\n",
       " [-3.47988900e-05 -1.28474003e-04  9.99999991e-01]]\n",
       "pose_t = [[0.7911258 ]\n",
       " [1.17533475]\n",
       " [1.28022169]]\n",
       "pose_err = 7.374564733972655e-08"
      ]
     },
     "execution_count": 5,
     "metadata": {},
     "output_type": "execute_result"
    }
   ],
   "source": [
    "tags[0]"
   ]
  },
  {
   "cell_type": "code",
   "execution_count": null,
   "id": "b442df76-9604-417e-a4fb-619e48c5d100",
   "metadata": {},
   "outputs": [],
   "source": [
    "tag = tags[0]\n",
    "print(tag.tag_id)\n",
    "print(tag.pose_R, tag.pose_t)"
   ]
  },
  {
   "cell_type": "code",
   "execution_count": null,
   "id": "fc8e5355-eef3-4810-9953-599d86cc43b1",
   "metadata": {},
   "outputs": [],
   "source": [
    "from scipy.spatial.transform import Rotation as R\n",
    "print(\"Rotation: \", R.from_matrix(tag.pose_R).as_rotvec(degrees=True))\n",
    "print(\"Rotation: \", R.from_matrix(tag.pose_R).as_euler(\"zyx\", degrees=True))"
   ]
  },
  {
   "cell_type": "code",
   "execution_count": null,
   "id": "a7efb93c-6219-4f52-87ae-742ff5a33ec9",
   "metadata": {},
   "outputs": [],
   "source": [
    "z_axis_rotation = # get first element"
   ]
  },
  {
   "cell_type": "code",
   "execution_count": null,
   "id": "8a49d34b-c5ed-43f2-ad37-d5588f98ebb8",
   "metadata": {},
   "outputs": [],
   "source": [
    "tag.pose_t #xyz"
   ]
  },
  {
   "cell_type": "code",
   "execution_count": null,
   "id": "c82abc1a-6b5b-45c6-8e32-4d082b3863fc",
   "metadata": {},
   "outputs": [],
   "source": [
    "import numpy as np\n",
    "import cv2\n",
    "from pyapriltags import Detector\n",
    "from scipy.spatial.transform import Rotation\n",
    "​\n",
    "#######################################################################################\n",
    "## Camera Config\n",
    "#######################################################################################\n",
    "​\n",
    "T_robot_camera = np.array([\n",
    "  [ 0.000, -0.342,  0.940, -14],\n",
    "  [-1.000,  0.000,  0.000,   0],\n",
    "  [ 0.000, -0.940, -0.342,  11],\n",
    "  [ 0.000,  0.000,  0.000,   1]\n",
    "], np.float32) # camera in reference frame of robot, you will need to calibrate this\n",
    "T_camera_robot = np.linalg.inv(T_robot_camera)\n",
    "​\n",
    "fx = 460.92495728\n",
    "fy = 460.85058594\n",
    "cx = 315.10949707\n",
    "cy = 176.72598267\n",
    "camera_params = ( fx, fy, cx, cy )\n",
    "​\n",
    "#######################################################################################\n",
    "## Tag Config\n",
    "#######################################################################################\n",
    "​\n",
    "tag_size = 3.0 # on a 4in apriltag, only the interior black square is measured\n",
    "​\n",
    "tag_poses = {\n",
    "  1: np.array([\n",
    "    [0, 0, -1, -72],\n",
    "    [1, 0, 0, 24],\n",
    "    [0, -1, 0, 0],\n",
    "    [0, 0, 0, 1],\n",
    "  ], np.float32),\n",
    "  2: np.array([\n",
    "    [1, 0, 0, -24],\n",
    "    [0, 0, 1, 72],\n",
    "    [0, -1, 0, 0],\n",
    "    [0, 0, 0, 1],\n",
    "  ], np.float32),\n",
    "  3: np.array([\n",
    "    [1, 0, 0, 24],\n",
    "    [0, 0, 1, 72],\n",
    "    [0, -1, 0, 0],\n",
    "    [0, 0, 0, 1],\n",
    "  ], np.float32),\n",
    "  4: np.array([\n",
    "    [0, 0, 1, 72],\n",
    "    [-1, 0, 0, 24],\n",
    "    [0, -1, 0, 0],\n",
    "    [0, 0, 0, 1],\n",
    "  ], np.float32),\n",
    "  5: np.array([\n",
    "    [0, 0, 1, 72],\n",
    "    [-1, 0, 0, -24],\n",
    "    [0, -1, 0, 0],\n",
    "    [0, 0, 0, 1],\n",
    "  ], np.float32),\n",
    "  6: np.array([\n",
    "    [-1, 0, 0, 24],\n",
    "    [0, 0, -1, -72],\n",
    "    [0, -1, 0, 0],\n",
    "    [0, 0, 0, 1],\n",
    "  ], np.float32),\n",
    "  7: np.array([\n",
    "    [-1, 0, 0, -24],\n",
    "    [0, 0, -1, -72],\n",
    "    [0, -1, 0, 0],\n",
    "    [0, 0, 0, 1],\n",
    "  ], np.float32),\n",
    "  8: np.array([\n",
    "    [0, 0, -1, -72],\n",
    "    [1, 0, 0, -24],\n",
    "    [0, -1, 0, 0],\n",
    "    [0, 0, 0, 1],\n",
    "  ], np.float32),\n",
    "}\n",
    "​\n",
    "​\n",
    "#######################################################################################\n",
    "## Apriltag Localization!!!\n",
    "#######################################################################################\n",
    "​\n",
    "detector = Detector(\n",
    "  families='tag16h5',\n",
    "  nthreads=1,\n",
    "  quad_decimate=1.0,\n",
    "  quad_sigma=0.0,\n",
    "  refine_edges=1,\n",
    "  decode_sharpening=0.25,\n",
    "  debug=0)\n",
    "​\n",
    "def detect(color_image):\n",
    "  tags = detector.detect(\n",
    "        img=cv2.cvtColor(color_image, cv2.COLOR_BGR2GRAY),\n",
    "        estimate_tag_pose=True,\n",
    "        camera_params=camera_params,\n",
    "        tag_size=tag_size)\n",
    "      \n",
    "  tags = [tag for tag in tags if tag.decision_margin > 50 and tag.tag_id in tag_poses.keys()]\n",
    "  return tags\n",
    "​\n",
    "def Rt2T(R, t):\n",
    "  T = np.eye(4, dtype=np.float32)\n",
    "  T[:3, :3] = R\n",
    "  T[:3, 3:] = t\n",
    "  return T\n",
    "​\n",
    "def localize(tags):\n",
    "  # use the formula present in the video, just with the first tag\n",
    "  if len(tags) == 0: return None\n",
    "  tag = tags[0]\n",
    "  T_camera_apriltag = Rt2T(tag.pose_R, tag.pose_t)\n",
    "  T_map_apriltag = tag_poses[tag.tag_id]\n",
    "  T_apriltag_camera = np.linalg.inv(T_camera_apriltag)\n",
    "  T_map_robot = T_map_apriltag @ T_apriltag_camera @ T_camera_robot\n",
    "  return T_map_robot\n",
    "​\n",
    "if __name__ == \"__main__\":\n",
    "  # robot = RemoteInterface(...)\n",
    "  # camera = RealsenseCamera()\n",
    "  camera = cv2.VideoCapture(0)\n",
    "​\n",
    "  while True:\n",
    "    # color, depth, sensors = robot.read()\n",
    "    # color, depth = camera.read()\n",
    "    _, color = camera.read()\n",
    "    if color is not None:\n",
    "      tags = detect(color)\n",
    "      T = localize(tags)\n",
    "      if T is not None: # we found a position!\n",
    "        x, y = T[0, 3], T[1, 3]\n",
    "        yaw = Rotation.from_matrix(T[:3, :3]).as_euler(\"zyx\", degrees=True)[0]\n",
    "        print(x, y, yaw)\n",
    "      else:\n",
    "        print(\"no tags found, so we can't localize\")\n",
    "Collapse"
   ]
  },
  {
   "cell_type": "code",
   "execution_count": null,
   "id": "24514ab5-a161-42e8-823f-4a19cffac345",
   "metadata": {},
   "outputs": [],
   "source": []
  },
  {
   "cell_type": "code",
   "execution_count": 32,
   "id": "622939ba-7e8d-4a97-974f-eb3265d2d83b",
   "metadata": {},
   "outputs": [],
   "source": [
    "import ctypes\n",
    "import os\n",
    "import sys\n",
    "from typing import Any, Dict, List, NamedTuple, Optional, Tuple, Union\n",
    "\n",
    "import numpy\n",
    "\n",
    "dir_path = '/Users/shanmugamr/python_tests/lib/python3.10/site-packages/pyapriltags'"
   ]
  },
  {
   "cell_type": "code",
   "execution_count": 33,
   "id": "4d1d832c-b1a1-49f3-b3e8-6745fd50da85",
   "metadata": {},
   "outputs": [],
   "source": [
    "class _ImageU8(ctypes.Structure):\n",
    "    \"\"\"Wraps image_u8 C struct.\"\"\"\n",
    "    _fields_ = [\n",
    "        ('width', ctypes.c_int),\n",
    "        ('height', ctypes.c_int),\n",
    "        ('stride', ctypes.c_int),\n",
    "        ('buf', ctypes.POINTER(ctypes.c_uint8))\n",
    "    ]\n",
    "\n",
    "\n",
    "class _Matd(ctypes.Structure):\n",
    "    \"\"\"Wraps matd C struct.\"\"\"\n",
    "    _fields_ = [\n",
    "        ('nrows', ctypes.c_int),\n",
    "        ('ncols', ctypes.c_int),\n",
    "        ('data', ctypes.c_double * 1),\n",
    "    ]\n",
    "\n",
    "\n",
    "class _ZArray(ctypes.Structure):\n",
    "    \"\"\"Wraps zarray C struct.\"\"\"\n",
    "    _fields_ = [\n",
    "        ('el_sz', ctypes.c_size_t),\n",
    "        ('size', ctypes.c_int),\n",
    "        ('alloc', ctypes.c_int),\n",
    "        ('data', ctypes.c_void_p)\n",
    "    ]\n",
    "\n",
    "\n",
    "class _ApriltagFamily(ctypes.Structure):\n",
    "    \"\"\"Wraps apriltag_family C struct.\"\"\"\n",
    "    _fields_ = [\n",
    "        ('ncodes', ctypes.c_uint32),\n",
    "        ('codes', ctypes.POINTER(ctypes.c_uint64)),\n",
    "        ('width_at_border', ctypes.c_int),\n",
    "        ('total_width', ctypes.c_int),\n",
    "        ('reversed_border', ctypes.c_bool),\n",
    "        ('nbits', ctypes.c_uint32),\n",
    "        ('bit_x', ctypes.POINTER(ctypes.c_int32)),\n",
    "        ('bit_y', ctypes.POINTER(ctypes.c_int32)),\n",
    "        ('h', ctypes.c_int32),\n",
    "        ('name', ctypes.c_char_p),\n",
    "    ]\n",
    "\n",
    "\n",
    "class _ApriltagDetection(ctypes.Structure):\n",
    "    \"\"\"Wraps apriltag_detection C struct.\"\"\"\n",
    "    _fields_ = [\n",
    "        ('family', ctypes.POINTER(_ApriltagFamily)),\n",
    "        ('id', ctypes.c_int),\n",
    "        ('hamming', ctypes.c_int),\n",
    "        ('decision_margin', ctypes.c_float),\n",
    "        ('H', ctypes.POINTER(_Matd)),\n",
    "        ('c', ctypes.c_double * 2),\n",
    "        ('p', (ctypes.c_double * 2) * 4)\n",
    "    ]\n",
    "\n",
    "\n",
    "class _ApriltagDetector(ctypes.Structure):\n",
    "    \"\"\"Wraps apriltag_detector C struct.\"\"\"\n",
    "    _fields_ = [\n",
    "        ('nthreads', ctypes.c_int),\n",
    "        ('quad_decimate', ctypes.c_float),\n",
    "        ('quad_sigma', ctypes.c_float),\n",
    "        ('refine_edges', ctypes.c_int),\n",
    "        ('decode_sharpening', ctypes.c_double),\n",
    "        ('debug', ctypes.c_int)\n",
    "    ]\n",
    "\n",
    "\n",
    "class _ApriltagDetectionInfo(ctypes.Structure):\n",
    "    \"\"\"Wraps apriltag_detection_info C struct.\"\"\"\n",
    "    _fields_ = [\n",
    "        ('det', ctypes.POINTER(_ApriltagDetection)),\n",
    "        ('tagsize', ctypes.c_double),\n",
    "        ('fx', ctypes.c_double),\n",
    "        ('fy', ctypes.c_double),\n",
    "        ('cx', ctypes.c_double),\n",
    "        ('cy', ctypes.c_double)\n",
    "    ]\n",
    "\n",
    "\n",
    "class _ApriltagPose(ctypes.Structure):\n",
    "    \"\"\"Wraps apriltag_pose C struct.\"\"\"\n",
    "    _fields_ = [\n",
    "        ('R', ctypes.POINTER(_Matd)),\n",
    "        ('t', ctypes.POINTER(_Matd))\n",
    "    ]\n"
   ]
  },
  {
   "cell_type": "code",
   "execution_count": 34,
   "id": "983b8b01-9864-438a-86cf-0edb37b3fe89",
   "metadata": {},
   "outputs": [],
   "source": [
    "def _ptr_to_array2d(datatype, ptr, rows, cols):\n",
    "    array_type = (datatype * cols) * rows\n",
    "    array_buf = array_type.from_address(ctypes.addressof(ptr))\n",
    "    return numpy.ctypeslib.as_array(array_buf, shape=(rows, cols))\n",
    "\n",
    "\n",
    "def _image_u8_get_array(img_ptr):\n",
    "    return _ptr_to_array2d(ctypes.c_uint8,\n",
    "                           img_ptr.contents.buf.contents,\n",
    "                           img_ptr.contents.height,\n",
    "                           img_ptr.contents.stride)\n",
    "\n",
    "\n",
    "def _matd_get_array(mat_ptr):\n",
    "    return _ptr_to_array2d(ctypes.c_double,\n",
    "                           mat_ptr.contents.data,\n",
    "                           int(mat_ptr.contents.nrows),\n",
    "                           int(mat_ptr.contents.ncols))\n",
    "\n",
    "\n",
    "def zarray_get(za, idx, ptr):\n",
    "    # memcpy(p, &za->data[idx*za->el_sz], za->el_sz);\n",
    "    #\n",
    "    # p                           = ptr\n",
    "    # za->el_sz                   = za.contents.el_sz\n",
    "    # &za->data[idx*za->el_sz]    = za.contents.data+idx*za.contents.el_sz\n",
    "\n",
    "    ctypes.memmove(ptr, za.contents.data + idx * za.contents.el_sz, za.contents.el_sz)\n"
   ]
  },
  {
   "cell_type": "code",
   "execution_count": 35,
   "id": "68742649-4899-404d-9f66-c93703556a6c",
   "metadata": {},
   "outputs": [],
   "source": [
    "class Detection(NamedTuple):\n",
    "    \"\"\"\n",
    "    Combined pythonic wrapper for apriltag_detection and apriltag_pose\n",
    "    \"\"\"\n",
    "    tag_family: bytes\n",
    "    tag_id: int\n",
    "    hamming: int\n",
    "    decision_margin: float\n",
    "    homography: numpy.ndarray\n",
    "    center: numpy.ndarray\n",
    "    corners: numpy.ndarray\n",
    "    pose_R: Optional[numpy.ndarray] = None\n",
    "    pose_t: Optional[numpy.ndarray] = None\n",
    "    pose_err: Optional[float] = None\n",
    "    tag_size: Optional[float] = None\n",
    "\n",
    "    def __str__(self):\n",
    "        return ('Detection object:' +\n",
    "                '\\ntag_family = ' + str(self.tag_family) +\n",
    "                '\\ntag_id = ' + str(self.tag_id) +\n",
    "                '\\ntag_size = ' + str(self.tag_size) +\n",
    "                '\\nhamming = ' + str(self.hamming) +\n",
    "                '\\ndecision_margin = ' + str(self.decision_margin) +\n",
    "                '\\nhomography = ' + str(self.homography) +\n",
    "                '\\ncenter = ' + str(self.center) +\n",
    "                '\\ncorners = ' + str(self.corners) +\n",
    "                '\\npose_R = ' + str(self.pose_R) +\n",
    "                '\\npose_t = ' + str(self.pose_t) +\n",
    "                '\\npose_err = ' + str(self.pose_err) + '\\n')\n",
    "\n",
    "    def __repr__(self):\n",
    "        return self.__str__()"
   ]
  },
  {
   "cell_type": "code",
   "execution_count": 41,
   "id": "5ac1af13-e8fb-42d8-abe5-5f96dd425343",
   "metadata": {},
   "outputs": [],
   "source": [
    "class Detector(object):\n",
    "    \"\"\"\n",
    "    Pythonic wrapper for apriltag_detector.\n",
    "\n",
    "    families:           Tag families, separated with a space, default: tag36h11\n",
    "    nthreads:           Number of threads, default: 1\n",
    "    quad_decimate:      Detection of quads can be done on a lower-resolution image, improving\n",
    "                        speed at a cost of pose accuracy and a slight decrease in detection\n",
    "                        rate. Decoding the binary payload is still done at full resolution,\n",
    "                        default: 2.0\n",
    "    quad_sigma:         What Gaussian blur should be applied to the segmented image (used for\n",
    "                        quad detection?)  Parameter is the standard deviation in pixels.\n",
    "                        Very noisy images benefit from non-zero values (e.g. 0.8),\n",
    "                        default: 0.0\n",
    "    refine_edges:       When non-zero, the edges of the each quad are adjusted to \"snap to\"\n",
    "                        strong gradients nearby. This is useful when decimation is employed,\n",
    "                        as it can increase the quality of the initial quad estimate\n",
    "                        substantially. Generally recommended to be on (1). Very\n",
    "                        computationally inexpensive. Option is ignored if quad_decimate = 1,\n",
    "                        default: 1\n",
    "    decode_sharpening:  How much sharpening should be done to decoded images? This can help\n",
    "                        decode small tags but may or may not help in odd lighting conditions\n",
    "                        or low light conditions, default = 0.25\n",
    "    searchpath:         Where to look for the Apriltag 3 library, must be a list,\n",
    "                        default: ['apriltags']\n",
    "    debug:              If 1, will save debug images. Runs very slow, default: 0\n",
    "    \"\"\"\n",
    "\n",
    "    _SUPPORTED_FAMILIES = (\n",
    "        'tag16h5',\n",
    "        'tag25h9',\n",
    "        'tag36h11',\n",
    "        'tagCircle21h7',\n",
    "        'tagCircle49h12',\n",
    "        'tagCustom48h12',\n",
    "        'tagStandard41h12',\n",
    "        'tagStandard52h13',\n",
    "    )\n",
    "\n",
    "    def __init__(self,\n",
    "                 families: str = 'tag36h11',\n",
    "                 nthreads: int = 1,\n",
    "                 quad_decimate: float = 2.0,\n",
    "                 quad_sigma: float = 0.0,\n",
    "                 refine_edges: int = 1,\n",
    "                 decode_sharpening: float = 0.25,\n",
    "                 debug: int = 0,\n",
    "                 searchpath: List[str] = ['apriltags', '.', dir_path]):\n",
    "\n",
    "        # Parse the parameters\n",
    "        self.params: Dict[str, Any] = dict()\n",
    "        self.params['families'] = families.split()\n",
    "        self.params['nthreads'] = nthreads\n",
    "        self.params['quad_decimate'] = quad_decimate\n",
    "        self.params['quad_sigma'] = quad_sigma\n",
    "        self.params['refine_edges'] = refine_edges\n",
    "        self.params['decode_sharpening'] = decode_sharpening\n",
    "        self.params['debug'] = debug\n",
    "\n",
    "        # detect OS to get extension for DLL\n",
    "        platform = sys.platform\n",
    "        if platform.startswith('linux'):\n",
    "            extension = '.so'\n",
    "        elif platform.startswith('darwin'):\n",
    "            extension = '.dylib'\n",
    "        elif platform == 'win32':\n",
    "            extension = '.dll'\n",
    "        else:\n",
    "            raise NotImplementedError(f\"The platform {platform} is not supported\")\n",
    "\n",
    "        filename = 'libapriltag' + extension\n",
    "\n",
    "        self.libc = None\n",
    "        self.tag_detector = None\n",
    "        self.tag_detector_ptr = None\n",
    "\n",
    "        for path in searchpath:\n",
    "            relpath = os.path.join('pyapriltags', path, filename)\n",
    "            if os.path.exists(relpath):\n",
    "                self.libc = ctypes.CDLL(relpath)\n",
    "                break\n",
    "\n",
    "        # if full path not found just try opening the raw filename;\n",
    "        # this should search whatever paths dlopen is supposed to\n",
    "        # search.\n",
    "        if self.libc is None:\n",
    "            self.libc = ctypes.CDLL(os.path.join('pyapriltags', filename))\n",
    "\n",
    "        if self.libc is None:\n",
    "            raise RuntimeError('could not find DLL named ' + filename)\n",
    "\n",
    "        # setup the return types for all the functions used from the DLL\n",
    "        self._setup_restype()\n",
    "\n",
    "        # create the c-_apriltag_detector object\n",
    "        self.tag_detector_ptr = self.libc.apriltag_detector_create()\n",
    "\n",
    "        # create the family\n",
    "        self.tag_families = dict()\n",
    "        for family in self.params['families']:\n",
    "            if family in self._SUPPORTED_FAMILIES:\n",
    "                # Call the family's create method\n",
    "                self.tag_families[family] = getattr(self.libc, f'{family}_create')()\n",
    "                self.libc.apriltag_detector_add_family_bits(\n",
    "                    self.tag_detector_ptr,\n",
    "                    self.tag_families[family],\n",
    "                    2,\n",
    "                )\n",
    "            else:\n",
    "                raise Exception(\n",
    "                    'Unrecognized tag family name. Use e.g. \\'tag36h11\\'.\\n')\n",
    "\n",
    "        # configure the parameters of the detector\n",
    "        self.tag_detector_ptr.contents.nthreads = int(self.params['nthreads'])\n",
    "        self.tag_detector_ptr.contents.quad_decimate = float(self.params['quad_decimate'])\n",
    "        self.tag_detector_ptr.contents.quad_sigma = float(self.params['quad_sigma'])\n",
    "        self.tag_detector_ptr.contents.refine_edges = int(self.params['refine_edges'])\n",
    "        self.tag_detector_ptr.contents.decode_sharpening = int(self.params['decode_sharpening'])  # noqa: E501\n",
    "        self.tag_detector_ptr.contents.debug = int(self.params['debug'])\n",
    "\n",
    "    def _setup_restype(self):\n",
    "        \"\"\"Setup the return types for all the functions used from the DLL.\"\"\"\n",
    "        # Functions used in __init__\n",
    "        self.libc.apriltag_detector_create.restype = ctypes.POINTER(_ApriltagDetector)\n",
    "        self.libc.apriltag_detector_add_family_bits.restype = None\n",
    "        self.libc.apriltag_detector_destroy.restype = None\n",
    "\n",
    "        # Tag family constructors and destructors\n",
    "        for family in self._SUPPORTED_FAMILIES:\n",
    "            getattr(self.libc, f'{family}_create').restype = ctypes.POINTER(_ApriltagFamily)\n",
    "            getattr(self.libc, f'{family}_destroy').restype = None\n",
    "\n",
    "        # Functions used by detect()\n",
    "        self.libc.apriltag_detector_detect.restype = ctypes.POINTER(_ZArray)\n",
    "        self.libc.estimate_tag_pose.restype = ctypes.c_double\n",
    "        self.libc.matd_destroy.restype = None\n",
    "        self.libc.matd_destroy.restype = None\n",
    "        self.libc.image_u8_destroy.restype = None\n",
    "        self.libc.apriltag_detections_destroy.restype = None\n",
    "        self.libc.image_u8_create.restype = ctypes.POINTER(_ImageU8)\n",
    "\n",
    "    def __del__(self):\n",
    "        if self.tag_detector_ptr is not None:\n",
    "            # destroy the detector\n",
    "            self.libc.apriltag_detector_destroy(self.tag_detector_ptr)\n",
    "\n",
    "            # destroy the tag families\n",
    "            for family, tf in self.tag_families.items():\n",
    "                if family in self._SUPPORTED_FAMILIES:\n",
    "                    # Call the family's destroy method\n",
    "                    getattr(self.libc, f'{family}_destroy')(tf)\n",
    "\n",
    "    def detect(\n",
    "        self, img: numpy.ndarray, estimate_tag_pose: bool = False,\n",
    "        camera_params: Union[numpy.ndarray, Tuple[float, float, float, float], None] = None,\n",
    "        tag_size: Union[float, None, Dict[int, float]] = None,\n",
    "    ):\n",
    "        \"\"\"\n",
    "        Run detectons on the provided image. The image must be a grayscale\n",
    "        image of type numpy.uint8.\n",
    "        \"\"\"\n",
    "        assert len(img.shape) == 2\n",
    "        assert img.dtype == numpy.uint8\n",
    "\n",
    "        c_img = self._convert_image(img)\n",
    "\n",
    "        return_info = []\n",
    "\n",
    "        if self.libc is None:\n",
    "            raise RuntimeError('No DLL found')\n",
    "\n",
    "        # detect apriltags in the image\n",
    "        detections = self.libc.apriltag_detector_detect(self.tag_detector_ptr, c_img)\n",
    "        apriltag = ctypes.POINTER(_ApriltagDetection)()\n",
    "        return detections, apriltag\n",
    "\n",
    "    def _convert_image(self, img):\n",
    "        height = img.shape[0]\n",
    "        width = img.shape[1]\n",
    "\n",
    "        c_img = self.libc.image_u8_create(width, height)\n",
    "\n",
    "        tmp = _image_u8_get_array(c_img)\n",
    "\n",
    "        # copy the opencv image into the destination array, accounting for the\n",
    "        # difference between stride & width.\n",
    "        tmp[:, :width] = img\n",
    "\n",
    "        # tmp goes out of scope here but we don't care because\n",
    "        # the underlying data is still in c_img.\n",
    "        return c_img\n"
   ]
  },
  {
   "cell_type": "code",
   "execution_count": null,
   "id": "6a6ef5df-ead7-4dfe-ba42-b4a15d70fd74",
   "metadata": {},
   "outputs": [],
   "source": []
  }
 ],
 "metadata": {
  "kernelspec": {
   "display_name": "Python 3 (ipykernel)",
   "language": "python",
   "name": "python3"
  },
  "language_info": {
   "codemirror_mode": {
    "name": "ipython",
    "version": 3
   },
   "file_extension": ".py",
   "mimetype": "text/x-python",
   "name": "python",
   "nbconvert_exporter": "python",
   "pygments_lexer": "ipython3",
   "version": "3.10.2"
  }
 },
 "nbformat": 4,
 "nbformat_minor": 5
}
